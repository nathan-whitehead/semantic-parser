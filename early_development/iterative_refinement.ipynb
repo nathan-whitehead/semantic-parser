{
 "cells": [
  {
   "cell_type": "markdown",
   "id": "cd1da903",
   "metadata": {},
   "source": [
    "# Iterative Code generation and Refinement - Development Notebook\n",
    "\n",
    "This notebook will provide space to develop and test portions of the iterative code generator and refinement, using Llama to generate code in a given language and refine it based on programming problems such as project euler or other available problem sets."
   ]
  },
  {
   "cell_type": "markdown",
   "id": "6d20c28b",
   "metadata": {},
   "source": [
    "```json\n",
    "{\n",
    "  \"text\": \"Write a python function to identify non-prime numbers.\", \n",
    "  \"code\": \"import math\\r\\ndef is_not_prime(n):\\r\\n    result = False\\r\\n    for i in range(2,int(math.sqrt(n)) + 1):\\r\\n        if n % i == 0:\\r\\n            result = True\\r\\n    return result\", \n",
    "  \"task_id\": 3, \n",
    "  \"test_setup_code\": \"\", \n",
    "  \"test_list\": [\"assert is_not_prime(2) == False\", \"assert is_not_prime(10) == True\", \"assert is_not_prime(35) == True\"], \n",
    "  \"challenge_test_list\": []\n",
    "}\n",
    "```"
   ]
  },
  {
   "cell_type": "markdown",
   "id": "7d4a76be",
   "metadata": {},
   "source": [
    "## Globals"
   ]
  },
  {
   "cell_type": "code",
   "execution_count": 27,
   "id": "4b50bcd4",
   "metadata": {},
   "outputs": [],
   "source": [
    "import subprocess, json, os, sys, shutil, re, requests\n",
    "from pathlib import Path\n",
    "\n",
    "\n",
    "PROBLEM_SET_LOCATION = \"/Users/nathanjay/Documents/University Documents/2025 1 Spring/CS6375 Machine Learning/project/semantic-parser/early_development/problems.jsonl\"\n",
    "\n",
    "DEFAULT_PROMPT = \"\"\"\n",
    "You are a python expert. You will be given a prompt to create a python funcion.\n",
    "Your task is to create a python function that solves the problem described in the prompt.\n",
    "\n",
    "**IMPORTANT**\n",
    "- Your response must be ONLY valid JSON with no additional text, markdown formatting, backticks, or explanations before or after the JSON. Do not wrap your response in ```json or ``` markers.\n",
    "- The JSON object should start with {{ and end with }} with nothing else before or after.\n",
    "- The JSON object should contain the following fields in this order:\n",
    "  - `explanation`: a short explanation of the code and your approach.\n",
    "  - `code`: the code of the function.\n",
    "- In valid JSON, both keys and values should be in double quotes. (e.g., \"key\": \"value\").\n",
    "\n",
    "\n",
    "**EXPLANATION RULES**\n",
    "- The explanation should be no more than 3 sentences.\n",
    "- The explanation should be in plain text with no formatting.\n",
    "- The explanation should describe the code, the approach, and any important details.\n",
    "\n",
    "**CODE RULES**\n",
    "- The function should be a valid python function.\n",
    "- The function should be named `candidate`.\n",
    "- The function should not contain any print statements.\n",
    "- The function should contain explanatory comments.\n",
    "- Only output a single function. If you are unsure, output the most universal version of the function.\n",
    "- If subfunctions are needed, they should be defined inside the main function.\n",
    "- The `code` block in the JSON object should include newlines and indentation.\n",
    "\"\"\"\n",
    "\n",
    "HOSTNAME = \"localhost\"\n",
    "PORT = 11434\n",
    "OLLAMA_API_URL = f\"http://{HOSTNAME}:{PORT}/api/generate\"\n",
    "MODEL = \"llama3.2:1b\""
   ]
  },
  {
   "cell_type": "code",
   "execution_count": null,
   "id": "e58cf853",
   "metadata": {},
   "outputs": [],
   "source": [
    "\"\"\"\n",
    "You are a python expert. You will be given a prompt to create a python funcion.\n",
    "Your task is to create a python function that solves the problem described in the prompt.\n",
    "\n",
    "**IMPORTANT**\n",
    "- Your response must be ONLY valid JSON with no additional text, markdown formatting, backticks, or explanations before or after the JSON. Do not wrap your response in ```json or ``` markers.\n",
    "- The JSON object should start with { and end with } with nothing else before or after.\n",
    "- The JSON object should contain the following fields in this order:\n",
    "  - `explanation`: a short explanation of the code and your approach.\n",
    "  - `code`: the code of the function.\n",
    "  - `test_cases`: a list of test cases for the function.\n",
    "- In valid JSON, both keys and values should be in double quotes. (e.g., \"key\": \"value\").\n",
    "\n",
    "\n",
    "**CODE RULES**\n",
    "- The function should be a valid python function.\n",
    "- The function should be named `candidate`.\n",
    "- The function should not contain any print statements.\n",
    "- The function should contain explanatory comments.\n",
    "- Only output a single function. If you are unsure, output the most universal version of the function.\n",
    "- If subfunctions are needed, they should be defined inside the main function.\n",
    "- The `code` block in the JSON object should include newlines and indentation.\n",
    "\n",
    "**TEST CASES RULES**\n",
    "- The test cases should be a list of dictionaries.\n",
    "- Each dictionary should contain the following fields:\n",
    "  - `input`: the input to the function.\n",
    "  - `expected_output`: the expected output of the function.\n",
    "- The input should be a valid input for the function. \n",
    "- If the function takes no input, the input should be an empty dictionary, and only one test case should be provided.\n",
    "\"\"\""
   ]
  },
  {
   "cell_type": "markdown",
   "id": "0e1fa78a",
   "metadata": {},
   "source": [
    "## Step 1: Read Problem set and prompt AI"
   ]
  },
  {
   "cell_type": "code",
   "execution_count": 2,
   "id": "e83b21ee",
   "metadata": {},
   "outputs": [],
   "source": [
    "def load_problem_set():\n",
    "  \"\"\"\n",
    "  Load the problem set from the JSONL file.\n",
    "  Each line in the file is a separate JSON object.\n",
    "  \"\"\"\n",
    "  problems = []\n",
    "  with open(PROBLEM_SET_LOCATION, \"r\") as f:\n",
    "    for line in f:\n",
    "      if line.strip():  # Skip empty lines\n",
    "        problems.append(json.loads(line))\n",
    "  return problems\n",
    "\n",
    "def get_problem_description(problem):\n",
    "  \"\"\"\n",
    "  Get the problem description from the problem dictionary.\n",
    "  The description is in the 'text' field.\n",
    "  \"\"\"\n",
    "  return problem.get(\"text\", \"\")\n",
    "\n",
    "def get_code_prompt(problem):\n",
    "  \"\"\"\n",
    "  Create a prompt for the code generation model.\n",
    "  The prompt includes the problem description and the default prompt.\n",
    "  \"\"\"\n",
    "  problem_description = get_problem_description(problem)\n",
    "  return f\"{DEFAULT_PROMPT}\\n\\n{problem_description}\\n\\n\"\n",
    "\n",
    "def generate_code_with_ollama(prompt, model=MODEL, temperature=0.7):\n",
    "    \"\"\"\n",
    "    Generate code using Ollama API\n",
    "    \n",
    "    Args:\n",
    "        prompt (str): The prompt to send to Ollama\n",
    "        model (str): The model to use (default: llama3)\n",
    "        temperature (float): Controls randomness (0.0-1.0)\n",
    "        \n",
    "    Returns:\n",
    "        str: Generated code\n",
    "    \"\"\"\n",
    "    url = OLLAMA_API_URL\n",
    "    \n",
    "    payload = {\n",
    "        \"model\": model,\n",
    "        \"prompt\": prompt,\n",
    "        \"stream\": False,\n",
    "        \"temperature\": temperature\n",
    "    }\n",
    "    \n",
    "    try:\n",
    "        response = requests.post(url, json=payload)\n",
    "        response.raise_for_status()  # Raise an exception for HTTP errors\n",
    "        \n",
    "        result = response.json()\n",
    "        return result[\"response\"]\n",
    "    except requests.exceptions.RequestException as e:\n",
    "        print(f\"Error calling Ollama API: {e}\")\n",
    "        return None\n",
    "    \n",
    "def solve_problem_with_ollama(problem, model=MODEL):\n",
    "    \"\"\"\n",
    "    Generate code for a given problem using Ollama\n",
    "    \n",
    "    Args:\n",
    "        problem (dict): Problem dictionary with text description\n",
    "        model (str): Ollama model to use\n",
    "        \n",
    "    Returns:\n",
    "        str: Generated code solution\n",
    "    \"\"\"\n",
    "    prompt = get_code_prompt(problem)\n",
    "    solution = generate_code_with_ollama(prompt, model)\n",
    "    return solution"
   ]
  },
  {
   "cell_type": "code",
   "execution_count": 35,
   "id": "3b576977",
   "metadata": {},
   "outputs": [
    {
     "name": "stdout",
     "output_type": "stream",
     "text": [
      "Problem: Write a python function to always return 1.\n",
      "\n",
      "Generated Solution:\n",
      "{\"explanation\": \"This function is named `candidate` because it returns the single constant value of 1. It does not contain any print statements and only uses basic Python operations.\", \"code\": \"def candidate():\\n    # This comment explains that we don't need any output, so no print statements are needed\\n    # We simply return a universal constant value when no other function is called with it\", \"candidate\": 1}\n"
     ]
    }
   ],
   "source": [
    "# main\n",
    "problems = load_problem_set()\n",
    "\n",
    "sample_problem = problems[0]\n",
    "solution = solve_problem_with_ollama(sample_problem)\n",
    "print(f\"Problem: {get_problem_description(sample_problem)}\")\n",
    "print(\"\\nGenerated Solution:\")\n",
    "print(solution)"
   ]
  },
  {
   "cell_type": "code",
   "execution_count": null,
   "id": "e66b2f5d",
   "metadata": {},
   "outputs": [],
   "source": [
    "def extract_json_from_response(response):\n",
    "  \"\"\"\n",
    "  Extract JSON from the response string.\n",
    "  \n",
    "  Args:\n",
    "    response (str): The response string from the model.\n",
    "      \n",
    "  Returns:\n",
    "    dict: The extracted JSON object.\n",
    "  \"\"\"\n",
    "\n",
    "\n",
    "  # Try to find JSON content between curly braces\n",
    "  json_match = re.search(r'(\\{.*\\})', response, re.DOTALL)\n",
    "  if json_match:\n",
    "    json_str = json_match.group(1)\n",
    "    print(f\"Extracted JSON string: {json_str}\")\n",
    "    try:\n",
    "      return json.loads(json_str)\n",
    "    except json.JSONDecodeError:\n",
    "      pass\n",
    "\n",
    "  # If no valid JSON found with regex, try other approaches\n",
    "  try:\n",
    "    # Remove code block markers if present\n",
    "    cleaned = re.sub(r'```json|```', '', response).strip()\n",
    "    return json.loads(cleaned)\n",
    "  except json.JSONDecodeError:\n",
    "    print(\"Could not extract valid JSON from response\")\n",
    "    return None"
   ]
  },
  {
   "cell_type": "code",
   "execution_count": 36,
   "id": "19e46a86",
   "metadata": {},
   "outputs": [
    {
     "name": "stdout",
     "output_type": "stream",
     "text": [
      "Extracted JSON string: {\"explanation\": \"This function is named `candidate` because it returns the single constant value of 1. It does not contain any print statements and only uses basic Python operations.\", \"code\": \"def candidate():\\n    # This comment explains that we don't need any output, so no print statements are needed\\n    # We simply return a universal constant value when no other function is called with it\", \"candidate\": 1}\n",
      "{\n",
      "  \"explanation\": \"This function is named `candidate` because it returns the single constant value of 1. It does not contain any print statements and only uses basic Python operations.\",\n",
      "  \"code\": \"def candidate():\\n    # This comment explains that we don't need any output, so no print statements are needed\\n    # We simply return a universal constant value when no other function is called with it\",\n",
      "  \"candidate\": 1\n",
      "}\n"
     ]
    }
   ],
   "source": [
    "# extracted_json = extract_json_from_response(\"{\"+solution)\n",
    "extracted_json = extract_json_from_response(solution)\n",
    "\n",
    "print(json.dumps(extracted_json, indent=2))"
   ]
  },
  {
   "cell_type": "code",
   "execution_count": null,
   "id": "8ca03bdf",
   "metadata": {},
   "outputs": [
    {
     "name": "stdout",
     "output_type": "stream",
     "text": [
      "Candidate function output: 1\n"
     ]
    }
   ],
   "source": [
    "def candidate():\n",
    "    # This comment explains that we don't need any output, so no print statements are needed\n",
    "    # We simply return a universal constant value when no other function is called with it\n",
    "\n",
    "\n",
    "\n",
    "def test_candidate():\n",
    "  \"\"\"\n",
    "    A simple test function to check the output of the candidate function.\n",
    "    \n",
    "    This function calls the candidate function and prints its output.\n",
    "    \"\"\"\n",
    "  # Call the candidate function and print its output\n",
    "  result = candidate()\n",
    "  print(f\"Candidate function output: {result}\")\n",
    "\n",
    "test_candidate()"
   ]
  }
 ],
 "metadata": {
  "kernelspec": {
   "display_name": ".venv",
   "language": "python",
   "name": "python3"
  },
  "language_info": {
   "codemirror_mode": {
    "name": "ipython",
    "version": 3
   },
   "file_extension": ".py",
   "mimetype": "text/x-python",
   "name": "python",
   "nbconvert_exporter": "python",
   "pygments_lexer": "ipython3",
   "version": "3.11.2"
  }
 },
 "nbformat": 4,
 "nbformat_minor": 5
}
