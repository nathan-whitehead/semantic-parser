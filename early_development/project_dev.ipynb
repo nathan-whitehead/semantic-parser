{
 "cells": [
  {
   "cell_type": "code",
   "execution_count": null,
   "metadata": {},
   "outputs": [
    {
     "name": "stdout",
     "output_type": "stream",
     "text": [
      "Detected field: tnb-google-search-input\n",
      "Detected field: filter-tutorials-input\n",
      "Detected field: filter-exercises-input\n",
      "Detected field: filter-certified-input\n",
      "Detected field: filter-services-input\n",
      "Detected field: fname\n",
      "Detected field: lname\n",
      "Detected field: fname\n",
      "Detected field: lname\n",
      "Detected field: fav_language\n",
      "Detected field: fav_language\n",
      "Detected field: fav_language\n",
      "Detected field: vehicle1\n",
      "Detected field: vehicle2\n",
      "Detected field: vehicle3\n",
      "Detected field: firstname\n",
      "Detected field: lastname\n",
      "Detected field: quizoption\n",
      "Detected field: quizoption\n",
      "Detected field: quizoption\n"
     ]
    }
   ],
   "source": [
    "from selenium import webdriver\n",
    "from selenium.webdriver.common.by import By\n",
    "\n",
    "driver = webdriver.Chrome()  # Open Chrome\n",
    "driver.get(\"https://www.w3schools.com/html/html_forms.asp\")  # Load form page\n",
    "\n",
    "# Extract all input fields\n",
    "input_fields = driver.find_elements(By.TAG_NAME, \"input\")\n",
    "\n",
    "fields = {}\n",
    "\n",
    "for field in input_fields:\n",
    "  field_name = field.get_attribute(\"name\") or field.get_attribute(\"id\")\n",
    "  if field_name:\n",
    "    fields[field_name] = \"\"\n",
    "    print(f\"Detected field: {field_name}\")\n",
    "  "
   ]
  },
  {
   "cell_type": "code",
   "execution_count": 9,
   "metadata": {},
   "outputs": [
    {
     "data": {
      "text/plain": [
       "{'tnb-google-search-input': <selenium.webdriver.remote.webelement.WebElement (session=\"284a7b9aad32110c6eeddefb15e1f00a\", element=\"f.A48FE2F8EA6B2185A05972FA23E09C7B.d.8F6658AD90C1118CA3A65A1EBAF08C7C.e.8\")>,\n",
       " 'filter-tutorials-input': <selenium.webdriver.remote.webelement.WebElement (session=\"284a7b9aad32110c6eeddefb15e1f00a\", element=\"f.A48FE2F8EA6B2185A05972FA23E09C7B.d.8F6658AD90C1118CA3A65A1EBAF08C7C.e.9\")>,\n",
       " 'filter-exercises-input': <selenium.webdriver.remote.webelement.WebElement (session=\"284a7b9aad32110c6eeddefb15e1f00a\", element=\"f.A48FE2F8EA6B2185A05972FA23E09C7B.d.8F6658AD90C1118CA3A65A1EBAF08C7C.e.10\")>,\n",
       " 'filter-certified-input': <selenium.webdriver.remote.webelement.WebElement (session=\"284a7b9aad32110c6eeddefb15e1f00a\", element=\"f.A48FE2F8EA6B2185A05972FA23E09C7B.d.8F6658AD90C1118CA3A65A1EBAF08C7C.e.11\")>,\n",
       " 'filter-services-input': <selenium.webdriver.remote.webelement.WebElement (session=\"284a7b9aad32110c6eeddefb15e1f00a\", element=\"f.A48FE2F8EA6B2185A05972FA23E09C7B.d.8F6658AD90C1118CA3A65A1EBAF08C7C.e.12\")>,\n",
       " 'fname': <selenium.webdriver.remote.webelement.WebElement (session=\"284a7b9aad32110c6eeddefb15e1f00a\", element=\"f.A48FE2F8EA6B2185A05972FA23E09C7B.d.8F6658AD90C1118CA3A65A1EBAF08C7C.e.5\")>,\n",
       " 'lname': <selenium.webdriver.remote.webelement.WebElement (session=\"284a7b9aad32110c6eeddefb15e1f00a\", element=\"f.A48FE2F8EA6B2185A05972FA23E09C7B.d.8F6658AD90C1118CA3A65A1EBAF08C7C.e.7\")>,\n",
       " 'fav_language': <selenium.webdriver.remote.webelement.WebElement (session=\"284a7b9aad32110c6eeddefb15e1f00a\", element=\"f.A48FE2F8EA6B2185A05972FA23E09C7B.d.8F6658AD90C1118CA3A65A1EBAF08C7C.e.17\")>,\n",
       " 'vehicle1': <selenium.webdriver.remote.webelement.WebElement (session=\"284a7b9aad32110c6eeddefb15e1f00a\", element=\"f.A48FE2F8EA6B2185A05972FA23E09C7B.d.8F6658AD90C1118CA3A65A1EBAF08C7C.e.18\")>,\n",
       " 'vehicle2': <selenium.webdriver.remote.webelement.WebElement (session=\"284a7b9aad32110c6eeddefb15e1f00a\", element=\"f.A48FE2F8EA6B2185A05972FA23E09C7B.d.8F6658AD90C1118CA3A65A1EBAF08C7C.e.19\")>,\n",
       " 'vehicle3': <selenium.webdriver.remote.webelement.WebElement (session=\"284a7b9aad32110c6eeddefb15e1f00a\", element=\"f.A48FE2F8EA6B2185A05972FA23E09C7B.d.8F6658AD90C1118CA3A65A1EBAF08C7C.e.20\")>,\n",
       " 'firstname': <selenium.webdriver.remote.webelement.WebElement (session=\"284a7b9aad32110c6eeddefb15e1f00a\", element=\"f.A48FE2F8EA6B2185A05972FA23E09C7B.d.8F6658AD90C1118CA3A65A1EBAF08C7C.e.21\")>,\n",
       " 'lastname': <selenium.webdriver.remote.webelement.WebElement (session=\"284a7b9aad32110c6eeddefb15e1f00a\", element=\"f.A48FE2F8EA6B2185A05972FA23E09C7B.d.8F6658AD90C1118CA3A65A1EBAF08C7C.e.23\")>,\n",
       " 'quizoption': <selenium.webdriver.remote.webelement.WebElement (session=\"284a7b9aad32110c6eeddefb15e1f00a\", element=\"f.A48FE2F8EA6B2185A05972FA23E09C7B.d.8F6658AD90C1118CA3A65A1EBAF08C7C.e.96\")>}"
      ]
     },
     "execution_count": 9,
     "metadata": {},
     "output_type": "execute_result"
    }
   ],
   "source": [
    "fields"
   ]
  },
  {
   "cell_type": "code",
   "execution_count": null,
   "metadata": {},
   "outputs": [],
   "source": [
    "import ollama\n",
    "\n",
    "def predict_value(field_name):\n",
    "  init_message = {\"role\": \"system\", \"content\": \"You are a helpful assistant that helps users fill out forms. You return concise answers to user prompts, and try to provide actual values that can be filled in for form fields based on the user context. Be aware that some fields may not be able to be answered from the context alone, and in those cases, you can ask the user for more information, or if you think that the field should not be filled, you can say so.\"}\n",
    "  context_message = {\"role\": \"user\", \"content\": \"I am trying to fill out a form on a website. My name is Nathan J. Whitehead, my email is nathanj.whitehead@icloud.com, and my phone number is 405-888-9118.\"}\n",
    "  prompt = f\"What value should be filled in for a form field labeled '{field_name}'?\"\n",
    "  messages = [init_message, context_message, {\"role\": \"user\", \"content\": prompt}]\n",
    "  response = ollama.chat(model=\"llama3.2:1b\", messages=messages)\n",
    "  content = response[\"message\"][\"content\"]\n",
    "  \n",
    "  if not content:\n",
    "    return \"No content received from the model.\"\n",
    "    \n",
    "\n",
    "  # print(f\"Response for '{field_name}': {content}\")\n",
    "  \n",
    "\n",
    "  # print(f\"Length of content received: {len(content)} characters.\")\n",
    "  \n",
    "  return content\n",
    "\n",
    "#print(predict_value(\"email\"))"
   ]
  },
  {
   "cell_type": "code",
   "execution_count": 16,
   "metadata": {},
   "outputs": [
    {
     "name": "stdout",
     "output_type": "stream",
     "text": [
      "Predicted value for 'tnb-google-search-input': Based on the information provided, I would recommend filling in \"tnb-google-search-input\" as:\n",
      "\n",
      "\"Nathan J. Whitehead\"\n",
      "\n",
      "This value is consistent with your name, which will help ensure that you receive relevant search results based on your profile information.\n",
      "Predicted value for 'filter-tutorials-input': Based on the information provided, I would suggest filling in the \"filter-tutorials-input\" field with your email address: nathanj.whitehead@icloud.com.\n",
      "Predicted value for 'filter-exercises-input': Based on the information provided, I would suggest filling in the \"filter-exercises-input\" field with:\n",
      "\n",
      "\"Nathan J. Whitehead\"\n",
      "\n",
      "This value is consistent with the other fields you've provided (name and email address), suggesting that this is a contact form or some other type of inquiry form where you're requesting input from others.\n"
     ]
    },
    {
     "ename": "KeyboardInterrupt",
     "evalue": "Interrupted by user",
     "output_type": "error",
     "traceback": [
      "\u001b[0;31m---------------------------------------------------------------------------\u001b[0m",
      "\u001b[0;31mKeyboardInterrupt\u001b[0m                         Traceback (most recent call last)",
      "Cell \u001b[0;32mIn[16], line 4\u001b[0m\n\u001b[1;32m      2\u001b[0m   value \u001b[38;5;241m=\u001b[39m predict_value(field)\n\u001b[1;32m      3\u001b[0m   \u001b[38;5;28mprint\u001b[39m(\u001b[38;5;124mf\u001b[39m\u001b[38;5;124m\"\u001b[39m\u001b[38;5;124mPredicted value for \u001b[39m\u001b[38;5;124m'\u001b[39m\u001b[38;5;132;01m{\u001b[39;00mfield\u001b[38;5;132;01m}\u001b[39;00m\u001b[38;5;124m'\u001b[39m\u001b[38;5;124m: \u001b[39m\u001b[38;5;132;01m{\u001b[39;00mvalue\u001b[38;5;132;01m}\u001b[39;00m\u001b[38;5;124m\"\u001b[39m)\n\u001b[0;32m----> 4\u001b[0m   \u001b[38;5;28;43minput\u001b[39;49m\u001b[43m(\u001b[49m\u001b[38;5;124;43m\"\u001b[39;49m\u001b[38;5;124;43mPress Enter to continue...\u001b[39;49m\u001b[38;5;124;43m\"\u001b[39;49m\u001b[43m)\u001b[49m\n\u001b[1;32m      5\u001b[0m   fields[field] \u001b[38;5;241m=\u001b[39m value\n\u001b[1;32m      7\u001b[0m \u001b[38;5;28mprint\u001b[39m(fields)\n",
      "File \u001b[0;32m~/Documents/University Documents/2025 1 Spring/CS6375 Machine Learning/pytorch/lib/python3.11/site-packages/ipykernel/kernelbase.py:1282\u001b[0m, in \u001b[0;36mKernel.raw_input\u001b[0;34m(self, prompt)\u001b[0m\n\u001b[1;32m   1280\u001b[0m     msg \u001b[38;5;241m=\u001b[39m \u001b[38;5;124m\"\u001b[39m\u001b[38;5;124mraw_input was called, but this frontend does not support input requests.\u001b[39m\u001b[38;5;124m\"\u001b[39m\n\u001b[1;32m   1281\u001b[0m     \u001b[38;5;28;01mraise\u001b[39;00m StdinNotImplementedError(msg)\n\u001b[0;32m-> 1282\u001b[0m \u001b[38;5;28;01mreturn\u001b[39;00m \u001b[38;5;28;43mself\u001b[39;49m\u001b[38;5;241;43m.\u001b[39;49m\u001b[43m_input_request\u001b[49m\u001b[43m(\u001b[49m\n\u001b[1;32m   1283\u001b[0m \u001b[43m    \u001b[49m\u001b[38;5;28;43mstr\u001b[39;49m\u001b[43m(\u001b[49m\u001b[43mprompt\u001b[49m\u001b[43m)\u001b[49m\u001b[43m,\u001b[49m\n\u001b[1;32m   1284\u001b[0m \u001b[43m    \u001b[49m\u001b[38;5;28;43mself\u001b[39;49m\u001b[38;5;241;43m.\u001b[39;49m\u001b[43m_parent_ident\u001b[49m\u001b[43m[\u001b[49m\u001b[38;5;124;43m\"\u001b[39;49m\u001b[38;5;124;43mshell\u001b[39;49m\u001b[38;5;124;43m\"\u001b[39;49m\u001b[43m]\u001b[49m\u001b[43m,\u001b[49m\n\u001b[1;32m   1285\u001b[0m \u001b[43m    \u001b[49m\u001b[38;5;28;43mself\u001b[39;49m\u001b[38;5;241;43m.\u001b[39;49m\u001b[43mget_parent\u001b[49m\u001b[43m(\u001b[49m\u001b[38;5;124;43m\"\u001b[39;49m\u001b[38;5;124;43mshell\u001b[39;49m\u001b[38;5;124;43m\"\u001b[39;49m\u001b[43m)\u001b[49m\u001b[43m,\u001b[49m\n\u001b[1;32m   1286\u001b[0m \u001b[43m    \u001b[49m\u001b[43mpassword\u001b[49m\u001b[38;5;241;43m=\u001b[39;49m\u001b[38;5;28;43;01mFalse\u001b[39;49;00m\u001b[43m,\u001b[49m\n\u001b[1;32m   1287\u001b[0m \u001b[43m\u001b[49m\u001b[43m)\u001b[49m\n",
      "File \u001b[0;32m~/Documents/University Documents/2025 1 Spring/CS6375 Machine Learning/pytorch/lib/python3.11/site-packages/ipykernel/kernelbase.py:1325\u001b[0m, in \u001b[0;36mKernel._input_request\u001b[0;34m(self, prompt, ident, parent, password)\u001b[0m\n\u001b[1;32m   1322\u001b[0m \u001b[38;5;28;01mexcept\u001b[39;00m \u001b[38;5;167;01mKeyboardInterrupt\u001b[39;00m:\n\u001b[1;32m   1323\u001b[0m     \u001b[38;5;66;03m# re-raise KeyboardInterrupt, to truncate traceback\u001b[39;00m\n\u001b[1;32m   1324\u001b[0m     msg \u001b[38;5;241m=\u001b[39m \u001b[38;5;124m\"\u001b[39m\u001b[38;5;124mInterrupted by user\u001b[39m\u001b[38;5;124m\"\u001b[39m\n\u001b[0;32m-> 1325\u001b[0m     \u001b[38;5;28;01mraise\u001b[39;00m \u001b[38;5;167;01mKeyboardInterrupt\u001b[39;00m(msg) \u001b[38;5;28;01mfrom\u001b[39;00m\u001b[38;5;250m \u001b[39m\u001b[38;5;28;01mNone\u001b[39;00m\n\u001b[1;32m   1326\u001b[0m \u001b[38;5;28;01mexcept\u001b[39;00m \u001b[38;5;167;01mException\u001b[39;00m:\n\u001b[1;32m   1327\u001b[0m     \u001b[38;5;28mself\u001b[39m\u001b[38;5;241m.\u001b[39mlog\u001b[38;5;241m.\u001b[39mwarning(\u001b[38;5;124m\"\u001b[39m\u001b[38;5;124mInvalid Message:\u001b[39m\u001b[38;5;124m\"\u001b[39m, exc_info\u001b[38;5;241m=\u001b[39m\u001b[38;5;28;01mTrue\u001b[39;00m)\n",
      "\u001b[0;31mKeyboardInterrupt\u001b[0m: Interrupted by user"
     ]
    }
   ],
   "source": [
    "for field in fields:\n",
    "  value = predict_value(field)\n",
    "  print(f\"Predicted value for '{field}': {value}\")\n",
    "  input(\"Press Enter to continue...\")\n",
    "  fields[field] = value\n",
    "\n",
    "print(fields)"
   ]
  },
  {
   "cell_type": "code",
   "execution_count": null,
   "metadata": {},
   "outputs": [],
   "source": [
    "submit_button = driver.find_element(By.XPATH, \"//button[@type='submit']\")  # Adjust selector\n",
    "submit_button.click()"
   ]
  }
 ],
 "metadata": {
  "kernelspec": {
   "display_name": "Python 3 (ipykernel)",
   "language": "python",
   "name": "python3"
  },
  "language_info": {
   "codemirror_mode": {
    "name": "ipython",
    "version": 3
   },
   "file_extension": ".py",
   "mimetype": "text/x-python",
   "name": "python",
   "nbconvert_exporter": "python",
   "pygments_lexer": "ipython3",
   "version": "3.11.0"
  }
 },
 "nbformat": 4,
 "nbformat_minor": 2
}
